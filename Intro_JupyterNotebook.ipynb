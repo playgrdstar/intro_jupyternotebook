{
 "cells": [
  {
   "cell_type": "markdown",
   "metadata": {},
   "source": [
    "### Quick Introduction to Jupyter ###"
   ]
  },
  {
   "cell_type": "markdown",
   "metadata": {},
   "source": [
    "There are many ways to code in Python. You could -\n",
    "- Use a command window\n",
    "- Use an Integrated Development Environment - Example Spyder comes with Anaconda. Pycharm is another popular option\n",
    "- Write in any text editor, and run it as a script in a command window\n",
    "- Use Jupyter"
   ]
  },
  {
   "cell_type": "markdown",
   "metadata": {},
   "source": [
    "** Jupyter's ** main advantage is that it is an 'all-in-one'.\n",
    "> Everything is in one document, code, results, charts ..."
   ]
  },
  {
   "cell_type": "markdown",
   "metadata": {},
   "source": [
    "Quick orientation.\n",
    "\n",
    "- Like any application, there is a menu bar right at the top where you can download the notebook, copy and paste etc. This is pretty much self explanatory.\n",
    "- Further down, you have a line of icons to save, add rows, run and stop. There is also a dropdown that allows you to choose what each line in the notebook is being used for. 'Code' means you use it for coding. The other options (e.g. 'Markdown').\n",
    "- The 'Kernel' refers to the Python environment that we will use here for running the scripts.\n",
    "\n",
    "Shortcuts. When you are coding in each row, there are easy shortcuts you can use. To use the shortcuts, you need to press ESC or click any spot on the page outside of the row:\n",
    "- A, to add a row\n",
    "- D, to delete a row\n",
    "- M, to switch to text (i.e. not code)\n",
    "- Y, to switch to code"
   ]
  },
  {
   "cell_type": "markdown",
   "metadata": {},
   "source": [
    "Some other useful things"
   ]
  },
  {
   "cell_type": "markdown",
   "metadata": {},
   "source": [
    "### MAGIC ###"
   ]
  },
  {
   "cell_type": "markdown",
   "metadata": {},
   "source": [
    "Magic refers to some special functionalities that you can unlock, e.g. a function to time how long the code takes to run"
   ]
  },
  {
   "cell_type": "code",
   "execution_count": 1,
   "metadata": {
    "collapsed": true
   },
   "outputs": [],
   "source": [
    "%magic"
   ]
  },
  {
   "cell_type": "code",
   "execution_count": 2,
   "metadata": {
    "scrolled": true
   },
   "outputs": [
    {
     "name": "stdout",
     "output_type": "stream",
     "text": [
      "199998\n",
      "CPU times: user 13.5 ms, sys: 392 µs, total: 13.9 ms\n",
      "Wall time: 13.7 ms\n"
     ]
    }
   ],
   "source": [
    "%%time\n",
    "for number in range(100000):\n",
    "    number = number + number\n",
    "\n",
    "print(number)"
   ]
  },
  {
   "cell_type": "markdown",
   "metadata": {},
   "source": [
    "### SYSTEM ###"
   ]
  },
  {
   "cell_type": "markdown",
   "metadata": {},
   "source": [
    "We can access the command line (i.e. akin to working in the terminal) from within the note. Just start with an exclaimation mark."
   ]
  },
  {
   "cell_type": "code",
   "execution_count": 3,
   "metadata": {
    "collapsed": true
   },
   "outputs": [
    {
     "name": "stdout",
     "output_type": "stream",
     "text": [
      "Requirement already satisfied: pillow in /anaconda/envs/pydata/lib/python3.5/site-packages (4.1.1)\n",
      "Requirement already satisfied: olefile in /anaconda/envs/pydata/lib/python3.5/site-packages (from pillow) (0.44)\n",
      "\u001b[31mpipenv 2018.5.18 requires virtualenv-clone>=0.2.5, which is not installed.\u001b[0m\n",
      "\u001b[31mrequests-oauthlib 0.8.0 has requirement requests>=2.0.0, but you'll have requests 1.2.3 which is incompatible.\u001b[0m\n",
      "\u001b[31msumy 0.7.0 has requirement requests>=2.7.0, but you'll have requests 1.2.3 which is incompatible.\u001b[0m\n",
      "\u001b[31mrequests-toolbelt 0.7.0 has requirement requests<3.0.0,>=2.0.1, but you'll have requests 1.2.3 which is incompatible.\u001b[0m\n",
      "\u001b[31mzipline 1.1.1 has requirement requests>=2.9.1, but you'll have requests 1.2.3 which is incompatible.\u001b[0m\n",
      "\u001b[31mtweepy 3.5.0 has requirement requests>=2.4.3, but you'll have requests 1.2.3 which is incompatible.\u001b[0m\n",
      "\u001b[31msphinx 1.5.6 has requirement requests>=2.0.0, but you'll have requests 1.2.3 which is incompatible.\u001b[0m\n",
      "\u001b[31mpyfolio 0.8.0 has requirement pandas>=0.19.0, but you'll have pandas 0.18.1 which is incompatible.\u001b[0m\n",
      "\u001b[31mpandas-datareader 0.5.0 has requirement requests>=2.3.0, but you'll have requests 1.2.3 which is incompatible.\u001b[0m\n",
      "\u001b[31manaconda-client 1.6.3 has requirement requests>=2.9.1, but you'll have requests 1.2.3 which is incompatible.\u001b[0m\n",
      "\u001b[33mYou are using pip version 10.0.1, however version 18.0 is available.\n",
      "You should consider upgrading via the 'pip install --upgrade pip' command.\u001b[0m\n"
     ]
    }
   ],
   "source": [
    "! pip install pillow"
   ]
  },
  {
   "cell_type": "markdown",
   "metadata": {},
   "source": [
    "### MARKDOWN & LATEX ###"
   ]
  },
  {
   "cell_type": "markdown",
   "metadata": {},
   "source": [
    "It's useful to know Markdown and Latex, to format text, and write formulas."
   ]
  },
  {
   "cell_type": "markdown",
   "metadata": {},
   "source": [
    "**bold** prints the text in bold\n",
    "*italic* prints the text in italic\n",
    "_italic_ also prints it in italic\n",
    "**_italic_** bold and italic\n",
    "\n",
    "bullet point lists:\n",
    "* first_bullet\n",
    "* second_bullet\n",
    "\n",
    "&ndash; renders to a dash\n",
    "<br> inserts a line break\n",
    "\n",
    "Add a $ sign to do formulas\n",
    "\n",
    "$S_T = S_0 \\exp((r - 0.5\\sigma^2) T + \\sigma \\sqrt{T} z)$"
   ]
  },
  {
   "cell_type": "code",
   "execution_count": null,
   "metadata": {
    "collapsed": true
   },
   "outputs": [],
   "source": []
  }
 ],
 "metadata": {
  "kernelspec": {
   "display_name": "Python [default]",
   "language": "python",
   "name": "python3"
  },
  "language_info": {
   "codemirror_mode": {
    "name": "ipython",
    "version": 3
   },
   "file_extension": ".py",
   "mimetype": "text/x-python",
   "name": "python",
   "nbconvert_exporter": "python",
   "pygments_lexer": "ipython3",
   "version": "3.5.3"
  }
 },
 "nbformat": 4,
 "nbformat_minor": 2
}
